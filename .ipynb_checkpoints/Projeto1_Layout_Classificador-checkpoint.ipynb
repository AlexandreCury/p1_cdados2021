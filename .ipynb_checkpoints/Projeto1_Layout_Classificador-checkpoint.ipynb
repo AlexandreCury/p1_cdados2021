{
 "cells": [
  {
   "cell_type": "markdown",
   "metadata": {},
   "source": [
    "# Projeto 1 - Ciência dos Dados\n",
    "# Classificador Xbox"
   ]
  },
  {
   "cell_type": "markdown",
   "metadata": {},
   "source": [
    "Nome: Alex Steijntjes\n",
    "\n",
    "Nome: Alexandre Gonçalves Cury"
   ]
  },
  {
   "cell_type": "markdown",
   "metadata": {},
   "source": [
    "___\n",
    "Carregando algumas bibliotecas:"
   ]
  },
  {
   "cell_type": "code",
   "execution_count": 39,
   "metadata": {},
   "outputs": [],
   "source": [
    "%matplotlib inline\n",
    "import pandas as pd\n",
    "import matplotlib.pyplot as plt\n",
    "import numpy as np\n",
    "import os"
   ]
  },
  {
   "cell_type": "code",
   "execution_count": 40,
   "metadata": {
    "scrolled": false
   },
   "outputs": [
    {
     "name": "stdout",
     "output_type": "stream",
     "text": [
      "Esperamos trabalhar no diretório\n",
      "/Users/alexandrecury/Documents/GitHub/p1_cdados2021\n"
     ]
    }
   ],
   "source": [
    "print('Esperamos trabalhar no diretório')\n",
    "print(os.getcwd())"
   ]
  },
  {
   "cell_type": "markdown",
   "metadata": {},
   "source": [
    "Carregando a base de dados com os tweets classificados como relevantes e não relevantes:"
   ]
  },
  {
   "cell_type": "code",
   "execution_count": 41,
   "metadata": {},
   "outputs": [],
   "source": [
    "filename = 'Xbox Series.xlsx'"
   ]
  },
  {
   "cell_type": "code",
   "execution_count": 42,
   "metadata": {},
   "outputs": [
    {
     "data": {
      "text/html": [
       "<div>\n",
       "<style scoped>\n",
       "    .dataframe tbody tr th:only-of-type {\n",
       "        vertical-align: middle;\n",
       "    }\n",
       "\n",
       "    .dataframe tbody tr th {\n",
       "        vertical-align: top;\n",
       "    }\n",
       "\n",
       "    .dataframe thead th {\n",
       "        text-align: right;\n",
       "    }\n",
       "</style>\n",
       "<table border=\"1\" class=\"dataframe\">\n",
       "  <thead>\n",
       "    <tr style=\"text-align: right;\">\n",
       "      <th></th>\n",
       "      <th>Treinamento</th>\n",
       "      <th>Classificado</th>\n",
       "    </tr>\n",
       "  </thead>\n",
       "  <tbody>\n",
       "    <tr>\n",
       "      <td>0</td>\n",
       "      <td>@xboxbr me dá um xbox séries s 👉👈😎</td>\n",
       "      <td>1.0</td>\n",
       "    </tr>\n",
       "    <tr>\n",
       "      <td>1</td>\n",
       "      <td>@dhominy00274063 @gabriel99198382 mas o series...</td>\n",
       "      <td>1.0</td>\n",
       "    </tr>\n",
       "    <tr>\n",
       "      <td>2</td>\n",
       "      <td>xbox series s\\n\\nhttps://t.co/ujqwy55mkr\\n\\n( ...</td>\n",
       "      <td>0.0</td>\n",
       "    </tr>\n",
       "    <tr>\n",
       "      <td>3</td>\n",
       "      <td>marvel’s avengers | também será lançado no #ps...</td>\n",
       "      <td>0.0</td>\n",
       "    </tr>\n",
       "    <tr>\n",
       "      <td>4</td>\n",
       "      <td>primeiros testes alpha do dolby vision no xbox...</td>\n",
       "      <td>0.0</td>\n",
       "    </tr>\n",
       "  </tbody>\n",
       "</table>\n",
       "</div>"
      ],
      "text/plain": [
       "                                         Treinamento  Classificado\n",
       "0                 @xboxbr me dá um xbox séries s 👉👈😎           1.0\n",
       "1  @dhominy00274063 @gabriel99198382 mas o series...           1.0\n",
       "2  xbox series s\\n\\nhttps://t.co/ujqwy55mkr\\n\\n( ...           0.0\n",
       "3  marvel’s avengers | também será lançado no #ps...           0.0\n",
       "4  primeiros testes alpha do dolby vision no xbox...           0.0"
      ]
     },
     "execution_count": 42,
     "metadata": {},
     "output_type": "execute_result"
    }
   ],
   "source": [
    "train = pd.read_excel(filename)\n",
    "train.head(5)"
   ]
  },
  {
   "cell_type": "code",
   "execution_count": 43,
   "metadata": {},
   "outputs": [
    {
     "data": {
      "text/html": [
       "<div>\n",
       "<style scoped>\n",
       "    .dataframe tbody tr th:only-of-type {\n",
       "        vertical-align: middle;\n",
       "    }\n",
       "\n",
       "    .dataframe tbody tr th {\n",
       "        vertical-align: top;\n",
       "    }\n",
       "\n",
       "    .dataframe thead th {\n",
       "        text-align: right;\n",
       "    }\n",
       "</style>\n",
       "<table border=\"1\" class=\"dataframe\">\n",
       "  <thead>\n",
       "    <tr style=\"text-align: right;\">\n",
       "      <th></th>\n",
       "      <th>Teste</th>\n",
       "    </tr>\n",
       "  </thead>\n",
       "  <tbody>\n",
       "    <tr>\n",
       "      <td>0</td>\n",
       "      <td>um patch de manutenção está sendo implantado n...</td>\n",
       "    </tr>\n",
       "    <tr>\n",
       "      <td>1</td>\n",
       "      <td>microsoft convida anthony mackie para uma roda...</td>\n",
       "    </tr>\n",
       "    <tr>\n",
       "      <td>2</td>\n",
       "      <td>@sk8jinx antes eu queria o xbox series x\\n\\nma...</td>\n",
       "    </tr>\n",
       "    <tr>\n",
       "      <td>3</td>\n",
       "      <td>passa la no meu video familia\\n\\n tipo gringa💃...</td>\n",
       "    </tr>\n",
       "    <tr>\n",
       "      <td>4</td>\n",
       "      <td>quer ganhar um ‘refrigerador’ do xbox series x...</td>\n",
       "    </tr>\n",
       "  </tbody>\n",
       "</table>\n",
       "</div>"
      ],
      "text/plain": [
       "                                               Teste\n",
       "0  um patch de manutenção está sendo implantado n...\n",
       "1  microsoft convida anthony mackie para uma roda...\n",
       "2  @sk8jinx antes eu queria o xbox series x\\n\\nma...\n",
       "3  passa la no meu video familia\\n\\n tipo gringa💃...\n",
       "4  quer ganhar um ‘refrigerador’ do xbox series x..."
      ]
     },
     "execution_count": 43,
     "metadata": {},
     "output_type": "execute_result"
    }
   ],
   "source": [
    "test = pd.read_excel(filename, sheet_name = 'Teste')\n",
    "test.head(5)"
   ]
  },
  {
   "cell_type": "markdown",
   "metadata": {},
   "source": [
    "___\n",
    "## Classificador automático de sentimento\n"
   ]
  },
  {
   "cell_type": "markdown",
   "metadata": {},
   "source": [
    "No projeto 1 de ciência de dados, decidimos analizar se os Tweets de usuários do Xbox indicam uma satisfação ou não com o produto"
   ]
  },
  {
   "cell_type": "markdown",
   "metadata": {},
   "source": [
    "___\n",
    "### Montando um Classificador Naive-Bayes"
   ]
  },
  {
   "cell_type": "code",
   "execution_count": 44,
   "metadata": {},
   "outputs": [
    {
     "data": {
      "text/plain": [
       "0.0    0.64257\n",
       "1.0    0.35743\n",
       "Name: Classificado, dtype: float64"
      ]
     },
     "execution_count": 44,
     "metadata": {},
     "output_type": "execute_result"
    }
   ],
   "source": [
    "#Limpeza\n",
    "def clean(tweet):\n",
    "    return ''.join([i if ord(i) < 128 else '' for i in tweet])\n",
    "train[\"Treinamento\"] = train[\"Treinamento\"].apply(clean)\n",
    "train[\"Treinamento\"] = train[\"Treinamento\"].apply(lambda x: x.lower())\n",
    "train[\"Treinamento\"] = train[\"Treinamento\"].apply(lambda x: x.replace('.',' '))\n",
    "train[\"Treinamento\"] = train[\"Treinamento\"].apply(lambda x: x.replace('\\n',' '))\n",
    "train[\"Treinamento\"] = train[\"Treinamento\"].apply(lambda x: x.replace('?',' '))\n",
    "train[\"Treinamento\"] = train[\"Treinamento\"].apply(lambda x: x.replace('!',' '))\n",
    "train[\"Treinamento\"] = train[\"Treinamento\"].apply(lambda x: x.replace('\"',' '))\n",
    "train[\"Treinamento\"] = train[\"Treinamento\"].apply(lambda x: x.replace(';',' '))\n",
    "train[\"Treinamento\"] = train[\"Treinamento\"].apply(lambda x: x.replace('#',' '))\n",
    "train[\"Treinamento\"] = train[\"Treinamento\"].apply(lambda x: x.replace('&amp',' '))\n",
    "train[\"Treinamento\"] = train[\"Treinamento\"].apply(lambda x: x.replace(',',' '))\n",
    "train.Classificado.value_counts(True)"
   ]
  },
  {
   "cell_type": "code",
   "execution_count": 45,
   "metadata": {},
   "outputs": [],
   "source": [
    "#Definir 0 como irrelevante e 1 como relevante, variavel categorica\n",
    "\n",
    "train[\"Classificado\"] = train[\"Classificado\"].astype('category')\n",
    "train[\"Classificado\"].cat.categories = ['relevante', 'irrelevante']"
   ]
  },
  {
   "cell_type": "code",
   "execution_count": 46,
   "metadata": {},
   "outputs": [
    {
     "name": "stdout",
     "output_type": "stream",
     "text": [
      "O numero de dados relevantes é: 320\n",
      "O numero de dados irrelevantes antes de filtro é: 178\n"
     ]
    }
   ],
   "source": [
    "#Relevante e Irrelevante\n",
    "relevante = train[\"Classificado\"] == 'relevante'\n",
    "data1 = train.loc[relevante, :]\n",
    "total_relevante = data1.Classificado.value_counts()[0]\n",
    "\n",
    "print(\"O numero de dados relevantes é: {0}\".format(total_relevante))\n",
    "\n",
    "irrelevante = train[\"Classificado\"] == 'irrelevante'\n",
    "data2 = train.loc[irrelevante, :]\n",
    "total_irrelevante = data2.Classificado.value_counts()[1]\n",
    "\n",
    "print(\"O numero de dados irrelevantes antes de filtro é: {0}\".format(total_irrelevante))"
   ]
  },
  {
   "cell_type": "code",
   "execution_count": 47,
   "metadata": {},
   "outputs": [
    {
     "data": {
      "text/plain": [
       "498"
      ]
     },
     "execution_count": 47,
     "metadata": {},
     "output_type": "execute_result"
    }
   ],
   "source": [
    "#Toal de Palavras\n",
    "total_palavras = total_relevante+total_irrelevante\n",
    "total_palavras"
   ]
  },
  {
   "cell_type": "code",
   "execution_count": 48,
   "metadata": {},
   "outputs": [
    {
     "name": "stdout",
     "output_type": "stream",
     "text": [
      "xbox         350\n",
      "https://t    312\n",
      "series       289\n",
      "o            183\n",
      "e            179\n",
      "            ... \n",
      "terceiro       1\n",
      "gog            1\n",
      "cima           1\n",
      "atualiza       1\n",
      "what           1\n",
      "Length: 1617, dtype: int64\n",
      "Numero total de palavras relevantes:  7657\n"
     ]
    }
   ],
   "source": [
    "#Tabela Relevante\n",
    "relevante = train[\"Classificado\"] == 'relevante' # pegar somente dados classificados como relevante\n",
    "data_relevante = train.loc[relevante, :] # filtrar no dataframe\n",
    "tweet_relevante = pd.Series(data_relevante.Treinamento) #gera uma series de dados relevantes\n",
    "tweet_relevante = pd.DataFrame(tweet_relevante) #transforma a series em um dataframe\n",
    "tweet_relevante[\"Treinamento\"] = tweet_relevante[\"Treinamento\"].apply(clean)\n",
    "palavras_relevantes = tweet_relevante.Treinamento.str.cat() # transforma o dataframe em uma lista de palavras\n",
    "palavras_relevantes = palavras_relevantes.split()\n",
    "palavras_relevantes = pd.Series(palavras_relevantes)\n",
    "\n",
    "\n",
    "abs_relevante = palavras_relevantes.value_counts()\n",
    "total_relevante = abs_relevante.sum()\n",
    "print(abs_relevante)\n",
    "print(\"Numero total de palavras relevantes: \", total_relevante)"
   ]
  },
  {
   "cell_type": "code",
   "execution_count": 49,
   "metadata": {},
   "outputs": [
    {
     "name": "stdout",
     "output_type": "stream",
     "text": [
      "Tabela Relativa\n",
      "xbox         0.045710\n",
      "https://t    0.040747\n",
      "series       0.037743\n",
      "o            0.023900\n",
      "e            0.023377\n",
      "               ...   \n",
      "terceiro     0.000131\n",
      "gog          0.000131\n",
      "cima         0.000131\n",
      "atualiza     0.000131\n",
      "what         0.000131\n",
      "Length: 1617, dtype: float64\n",
      "1.0\n"
     ]
    }
   ],
   "source": [
    "print('Tabela Relativa')\n",
    "\n",
    "rel_relevante = palavras_relevantes.value_counts(True)\n",
    "print(rel_relevante)\n",
    "print(rel_relevante.sum())"
   ]
  },
  {
   "cell_type": "code",
   "execution_count": 50,
   "metadata": {},
   "outputs": [
    {
     "name": "stdout",
     "output_type": "stream",
     "text": [
      "xbox           216\n",
      "o              181\n",
      "de             179\n",
      "series         170\n",
      "no             137\n",
      "              ... \n",
      "postou           1\n",
      "xboxseriesx      1\n",
      "empurrar         1\n",
      "enorme           1\n",
      "podemos          1\n",
      "Length: 1173, dtype: int64\n",
      "Numero total de palavras irrelevantes:  5447\n"
     ]
    }
   ],
   "source": [
    "#Tabela Irrelevante\n",
    "\n",
    "irrelevante = train[\"Classificado\"] == 'irrelevante' # pegar somente dados classificados como relevante\n",
    "data_irrelevante = train.loc[irrelevante, :] # filtrar no dataframe\n",
    "tweet_irrelevante = pd.Series(data_irrelevante.Treinamento) #gera uma series de dados relevantes\n",
    "tweet_irrelevante = pd.DataFrame(tweet_irrelevante) #transforma a series em um dataframe\n",
    "tweet_irrelevante[\"Treinamento\"] = tweet_irrelevante[\"Treinamento\"].apply(clean)\n",
    "palavras_irrelevantes = tweet_irrelevante.Treinamento.str.cat() # transforma o dataframe em uma lista de palavras\n",
    "palavras_irrelevantes = palavras_irrelevantes.split()\n",
    "palavras_irrelevantes = pd.Series(palavras_irrelevantes)\n",
    "\n",
    "\n",
    "abs_irrelevante = palavras_irrelevantes.value_counts()\n",
    "total_irrelevante = abs_irrelevante.sum()\n",
    "print(abs_irrelevante)\n",
    "print(\"Numero total de palavras irrelevantes: \", total_irrelevante)"
   ]
  },
  {
   "cell_type": "code",
   "execution_count": 51,
   "metadata": {},
   "outputs": [
    {
     "name": "stdout",
     "output_type": "stream",
     "text": [
      "xbox           0.039655\n",
      "o              0.033229\n",
      "de             0.032862\n",
      "series         0.031210\n",
      "no             0.025151\n",
      "                 ...   \n",
      "postou         0.000184\n",
      "xboxseriesx    0.000184\n",
      "empurrar       0.000184\n",
      "enorme         0.000184\n",
      "podemos        0.000184\n",
      "Length: 1173, dtype: float64\n",
      "0.9999999999999999\n"
     ]
    }
   ],
   "source": [
    "#Tabela Relativa\n",
    "rel_irrelevante = palavras_irrelevantes.value_counts(True)\n",
    "print(rel_irrelevante)\n",
    "print(rel_irrelevante.sum())"
   ]
  },
  {
   "cell_type": "code",
   "execution_count": 52,
   "metadata": {},
   "outputs": [
    {
     "name": "stdout",
     "output_type": "stream",
     "text": [
      "Numero total de palavras relevantes é:  7657\n",
      "-------------------------------------------------------\n",
      "Numero total de palavras irrelevantes é:  5447\n",
      "-------------------------------------------------------\n",
      "Numero total de palavras apos o filtro/ajustes é:  13104\n"
     ]
    }
   ],
   "source": [
    "#Resultado das palavras\n",
    "print(\"Numero total de palavras relevantes é: \", total_relevante)\n",
    "print(55*\"-\")\n",
    "print(\"Numero total de palavras irrelevantes é: \", total_irrelevante)\n",
    "print(55*\"-\")\n",
    "total2 = total_relevante+total_irrelevante # apos o filtro\n",
    "\n",
    "print(\"Numero total de palavras apos o filtro/ajustes é: \",  total2)"
   ]
  },
  {
   "cell_type": "code",
   "execution_count": 53,
   "metadata": {},
   "outputs": [
    {
     "name": "stdout",
     "output_type": "stream",
     "text": [
      "A probabilidade de ser relevante é:  0.5843253968253969\n",
      "A probabilidade de ser irrelevante é:  0.4156746031746032\n",
      "Checagem:  1.0\n"
     ]
    }
   ],
   "source": [
    "#Probabilidade de ser relevante ou irrelevante\n",
    "\n",
    "prob_rel = total_relevante/total2\n",
    "prob_irr = total_irrelevante/total2\n",
    "checagem = prob_rel+prob_irr\n",
    "print(\"A probabilidade de ser relevante é: \", prob_rel) # palavras\n",
    "print(\"A probabilidade de ser irrelevante é: \", prob_irr) # palavras\n",
    "print(\"Checagem: \",checagem)\n"
   ]
  },
  {
   "cell_type": "markdown",
   "metadata": {},
   "source": [
    "___\n",
    "### Classificador Naive-Bayes"
   ]
  },
  {
   "cell_type": "code",
   "execution_count": 54,
   "metadata": {},
   "outputs": [],
   "source": [
    "prob_tweet_rel = 1\n",
    "prob_tweet_irr = 1\n",
    "\n",
    "\n",
    "\n",
    "lista_rel = []\n",
    "lista_irr = []\n",
    "\n",
    "a = \"relevante\"\n",
    "b = \"irrelevante\"\n",
    "\n",
    "for tweet in train.Treinamento:\n",
    "    tweet = clean(tweet)\n",
    "    tweet = tweet.split()\n",
    "    \n",
    "    for i in range(len(tweet)):\n",
    "        if tweet[i] in rel_relevante:\n",
    "            prob_tweet_rel *= (abs_relevante[tweet[i]]+1)/(total_relevante+total2)\n",
    "        else:\n",
    "            prob_tweet_rel *= (0+1)/(total_relevante+total2)\n",
    "\n",
    "        \n",
    "        if tweet[i] in rel_irrelevante:\n",
    "            prob_tweet_irr *= (abs_irrelevante[tweet[i]]+1)/(total_irrelevante+total2)\n",
    "        else:\n",
    "            prob_tweet_irr *= (0+1)/(total_irrelevante+total2)\n",
    "            \n",
    "\n",
    "\n",
    "\n",
    "            if (prob_tweet_rel*prob_rel) > (prob_tweet_irr*prob_irr):\n",
    "\n",
    "                lista_rel.append(\"relevante\")"
   ]
  },
  {
   "cell_type": "markdown",
   "metadata": {},
   "source": [
    "___\n",
    "### Verificando a performance do Classificador\n",
    "\n",
    "Agora você deve testar o seu classificador com a base de Testes."
   ]
  },
  {
   "cell_type": "code",
   "execution_count": 55,
   "metadata": {},
   "outputs": [
    {
     "name": "stdout",
     "output_type": "stream",
     "text": [
      "o numero total de tweets no classificador é: 500\n",
      "-------------------------------------------------------\n",
      "o numero de tweets classificados como relevantes é:  9\n",
      "-------------------------------------------------------\n",
      "a probabilidade dos tweets serem relevantes é:  0.018\n",
      "-------------------------------------------------------\n",
      "a probabilidade dos tweets serem irrelevantes é:  0.982\n"
     ]
    }
   ],
   "source": [
    "total_classificado = len(train.Treinamento)\n",
    "total_rel_classificado = len(lista_rel)\n",
    "prob_rel_classificada = len(lista_rel)/len(train.Treinamento)\n",
    "prob_irr_classificada = 1-((len(lista_rel)/len(train.Treinamento)))\n",
    "\n",
    "\n",
    "\n",
    "print(\"o numero total de tweets no classificador é:\", total_classificado)\n",
    "print(55*\"-\")\n",
    "print(\"o numero de tweets classificados como relevantes é: \", total_rel_classificado)\n",
    "print(55*\"-\")\n",
    "print(\"a probabilidade dos tweets serem relevantes é: \", prob_rel_classificada)\n",
    "print(55*\"-\")\n",
    "print(\"a probabilidade dos tweets serem irrelevantes é: \", prob_irr_classificada)"
   ]
  },
  {
   "cell_type": "code",
   "execution_count": 56,
   "metadata": {},
   "outputs": [
    {
     "name": "stdout",
     "output_type": "stream",
     "text": [
      "A probabilidade esperada de ser relevante é:  0.58\n",
      "-------------------------------------------------------\n",
      "A probabilidade apos o classificador:  0.018\n",
      "-------------------------------------------------------\n",
      "Diferenca de:  0.57\n",
      "-------------------------------------------------------\n",
      "   \n",
      "A probabilidade esperada de ser irrelevante é:  0.42\n",
      "-------------------------------------------------------\n",
      "A probabilidade calculada pelo classificador:  0.982\n",
      "-------------------------------------------------------\n",
      "Diferenca de:  0.57\n"
     ]
    }
   ],
   "source": [
    "print(\"A probabilidade esperada de ser relevante é: \", prob_rel.round(2))\n",
    "print(55*\"-\")\n",
    "print(\"A probabilidade apos o classificador: \", prob_rel_classificada) \n",
    "print(55*\"-\")\n",
    "print(\"Diferenca de: \", (prob_rel - prob_rel_classificada).round(2))\n",
    "print(55*\"-\")\n",
    "print(\"   \")\n",
    "print(\"A probabilidade esperada de ser irrelevante é: \", prob_irr.round(2))\n",
    "print(55*\"-\")\n",
    "print(\"A probabilidade calculada pelo classificador: \", prob_irr_classificada) \n",
    "print(55*\"-\")\n",
    "print(\"Diferenca de: \", (prob_irr_classificada - prob_irr).round(2))"
   ]
  },
  {
   "cell_type": "markdown",
   "metadata": {},
   "source": [
    "___\n",
    "### Concluindo"
   ]
  },
  {
   "cell_type": "markdown",
   "metadata": {},
   "source": [
    "O classificador não funcionou como esperávamos, e após a análize manual dos tweets, acreditamos que a baixa perfoma do classificador se deve ao fato de que os usuários comentam pontos de vistas diferentes do produto, como jogabilidade, estética do produto, controle, jogos disponíveis, etc. E também, percebemos que os termos utilizados são muito diversos, por isso nossa concluimos também o motivo do classificador não gerar os resultados esperados."
   ]
  },
  {
   "cell_type": "markdown",
   "metadata": {},
   "source": [
    "___\n",
    "## Aperfeiçoamento:\n",
    "\n",
    "Os trabalhos vão evoluir em conceito dependendo da quantidade de itens avançados:\n",
    "\n",
    "* Analizar separado os diferentes aspectos do produto (games, imagem, controle, console, etc.)\n",
    "* Criar categorias intermediárias de relevância;"
   ]
  },
  {
   "cell_type": "markdown",
   "metadata": {},
   "source": [
    "___\n",
    "## Referências"
   ]
  },
  {
   "cell_type": "markdown",
   "metadata": {},
   "source": [
    "[Naive Bayes and Text Classification](https://arxiv.org/pdf/1410.5329.pdf)  **Mais completo**\n",
    "\n",
    "[A practical explanation of a Naive Bayes Classifier](https://monkeylearn.com/blog/practical-explanation-naive-bayes-classifier/) **Mais simples**"
   ]
  },
  {
   "cell_type": "code",
   "execution_count": null,
   "metadata": {},
   "outputs": [],
   "source": []
  }
 ],
 "metadata": {
  "kernelspec": {
   "display_name": "Python 3",
   "language": "python",
   "name": "python3"
  },
  "language_info": {
   "codemirror_mode": {
    "name": "ipython",
    "version": 3
   },
   "file_extension": ".py",
   "mimetype": "text/x-python",
   "name": "python",
   "nbconvert_exporter": "python",
   "pygments_lexer": "ipython3",
   "version": "3.7.4"
  }
 },
 "nbformat": 4,
 "nbformat_minor": 4
}
